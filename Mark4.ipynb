{
 "cells": [
  {
   "cell_type": "code",
   "execution_count": null,
   "metadata": {},
   "outputs": [],
   "source": [
    "from bs4 import BeautifulSoup as bs\n",
    "import requests \n",
    "import numpy as np\n",
    "import pandas as pd\n",
    "import re #Using regular expressions to search for special sequence of characters\n",
    "import winsound\n",
    "import time"
   ]
  },
  {
   "cell_type": "code",
   "execution_count": null,
   "metadata": {},
   "outputs": [],
   "source": [
    "\n",
    "#These 2 arrays are used to store the webpages extracted through webscraping\n",
    "IndustryLinks=np.empty(0)\n",
    "CompaniesLinks=np.empty(0)\n",
    "\n",
    "#This array stores the part of the name of industry used as keyword while parsing through html doc\n",
    "IndustryNames=np.empty(0)\n",
    "\n",
    "#These 2 arrays are used to store the names of industries and companies extracted\n",
    "CompanyNames=np.empty(0)\n",
    "AllIndustries=np.empty(0)\n",
    "\n",
    "#Used to store the values of parameters that is extracted for each company\n",
    "\n",
    "beta=np.empty(0)#contains beta values\n",
    "pe=np.empty(0)#contains p/e values\n",
    "div=np.empty(0)#contains dividend values\n",
    "indpe=np.empty(0)#contains industry p/e values\n",
    "pb=np.empty(0)#contains p/b values\n",
    "divy=np.empty(0)#contains dividend yield values\n",
    "deliv1d=np.empty(0)#contains 1-day deliverables\n",
    "deliv3d=np.empty(0)#contains 3-day deliverables\n",
    "deliv5d=np.empty(0)#contains 5-day deliverables\n",
    "deliv8d=np.empty(0)#contains 8-day deliverables\n",
    "\n",
    "df=pd.DataFrame(columns=['Industry','Company','Beta','P/E','Dividend(%)','Industry P/E','P/B','Dividend Yield(%)','Deliverables(1D)','Deliverables(3D)','Deliverables(5D)','Deliverables(8D)'])"
   ]
  },
  {
   "cell_type": "code",
   "execution_count": null,
   "metadata": {},
   "outputs": [],
   "source": [
    "def Beta(Clink):\n",
    "    \n",
    "    page=requests.get(Clink)       #Using companylink passed tocreate soup object\n",
    "    soup=bs(page.content,'lxml')\n",
    "    \n",
    "    attr4={'class':'nsert','id':'div_nse_livebox_wrap'}           #Using attributes to locate nse section of \n",
    "    nseData=soup.find('div',attrs=attr4)                          #html doc\n",
    "    beta=nseData.find_all('div',attrs={'class':'disin vt'})       #Finding the part of the code \n",
    "    \n",
    "    for div in beta:\n",
    "        temp=str([div.text])\n",
    "        \n",
    "    temp1=temp.split('\\\\n')\n",
    "    #print(temp1[2])\n",
    "    try:\n",
    "        return float(temp1[2])\n",
    "    except:\n",
    "        return np.NaN"
   ]
  },
  {
   "cell_type": "code",
   "execution_count": null,
   "metadata": {},
   "outputs": [],
   "source": [
    "def terms(Clink):\n",
    "    try:\n",
    "        temp=np.empty(0)\n",
    "        temp1=np.empty(0)\n",
    "        page=requests.get(Clink)\n",
    "        soup=bs(page.content,'lxml')\n",
    "        attr={'class':'tab-pane fade','id':'consolidated_valuation','role':'tabpanel'}\n",
    "        div=soup.find('div',attrs=attr)\n",
    "        data=div.find_all('div',attrs={'class':'value_txtfr'})\n",
    "        for t in data:     \n",
    "            temp=np.append(temp,[t.text])\n",
    "        temp1=temp[11].split()\n",
    "        values=np.array([temp[1],temp[3],temp[5],temp[8],temp[9],temp1[9],temp1[4],temp1[6],temp1[8]])\n",
    "        series=[]\n",
    "        for i in values:\n",
    "            try:\n",
    "                series.append(float(i))\n",
    "            except(ValueError):\n",
    "                series.append(np.NaN)\n",
    "        return series\n",
    "    except:\n",
    "        series=[]\n",
    "        for i in range(0,9):\n",
    "            series.append(np.NaN)\n",
    "        return series"
   ]
  },
  {
   "cell_type": "code",
   "execution_count": null,
   "metadata": {},
   "outputs": [],
   "source": [
    "page=requests.get(\"https://www.moneycontrol.com/stocks/marketstats/industry-classification/nse/abrasives.html\")\n",
    "soup=bs(page.content,'lxml') #creating soup object to access links of all the industries\n",
    "\n",
    "attr={'class':'colLft'}\n",
    "section=soup.find('section',attrs=attr)#Scanning for section that contains list of all links\n",
    "\n",
    "\n",
    "attr2={'href':re.compile(\"/stocks/marketstats/industry-classification/nse/\")}\n",
    "links=section.find_all('a',attrs=attr2)#storing all href containing links after parsing isdone\n",
    "\n",
    "IndustryLinks=np.append(IndustryLinks,'https://www.moneycontrol.com/stocks/marketstats/industry-classification/nse/abrasives.html')\n",
    "link1='https://www.moneycontrol.com'"
   ]
  },
  {
   "cell_type": "code",
   "execution_count": null,
   "metadata": {},
   "outputs": [],
   "source": [
    "i=1\n",
    "for link in links:\n",
    "    IndustryLinks=np.append(IndustryLinks,link1+str(link.get('href')))\n",
    "    \n",
    "    i=i+1\n",
    "#Extracting all industry links from html doc and storing them in numpy array"
   ]
  },
  {
   "cell_type": "code",
   "execution_count": null,
   "metadata": {
    "scrolled": true
   },
   "outputs": [],
   "source": [
    "i=0\n",
    "for link in IndustryLinks:\n",
    "    try:\n",
    "        page=requests.get(link)\n",
    "        soup=bs(page.content,'lxml')\n",
    "        attr={'border':'0','cellpadding':'0','cellspacing':'0','width':'100%'}\n",
    "        table=soup.find('table',attrs=attr)\n",
    "        tbody=table.find('tbody')\n",
    "        Complinks=tbody.find_all('a',attrs={'href':re.compile(\"https://www.moneycontrol.com/india/stockpricequote/\")})\n",
    "        for j in Complinks:\n",
    "            temp=str(j).split(\"href=\\\"\")\n",
    "            temp1=temp[1].split(\"\\\" style\")\n",
    "            CompaniesLinks=np.append(CompaniesLinks,temp1[0])\n",
    "            \n",
    "            temp1=link.split('nse/')\n",
    "            temp2=temp1[1].split('.html')\n",
    "            IndustryNames=np.append(IndustryNames,temp2[0])\n",
    "            print(IndustryNames[len(IndustryNames)-1])\n",
    "        i+=1\n",
    "        print(\"Industries left\",len(IndustryLinks)-i)\n",
    "    except:\n",
    "        print(\"Error at\",link)\n",
    "        "
   ]
  },
  {
   "cell_type": "code",
   "execution_count": null,
   "metadata": {},
   "outputs": [],
   "source": [
    "i=0\n",
    "for j in CompaniesLinks:\n",
    "    try:\n",
    "        temp=j.split('/')\n",
    "        if(temp[5]!=''):\n",
    "            IndustryNames[i]=IndustryNames[i]+' ('+temp[5]+')'\n",
    "            CompanyNames=np.append(CompanyNames,temp[6])\n",
    "        else:\n",
    "            IndustryNames[i]=IndustryNames[i]+' ('+temp[5]+')'\n",
    "            CompanyNames=np.append(CompanyNames,temp[7])\n",
    "            \n",
    "        row=np.array(terms(j))\n",
    "            \n",
    "        try:\n",
    "            beta=np.append(beta,Beta(j))\n",
    "        except:\n",
    "            beta=np.append(beta,np.NaN)\n",
    "                \n",
    "        pe=np.append(pe,row[0])\n",
    "        div=np.append(div,row[1])\n",
    "        indpe=np.append(indpe,row[2])\n",
    "        pb=np.append(pb,row[3])\n",
    "        divy=np.append(divy,row[4])\n",
    "        deliv1d=np.append(deliv1d,row[5])\n",
    "        deliv3d=np.append(deliv3d,row[6])\n",
    "        deliv5d=np.append(deliv5d,row[7])\n",
    "        deliv8d=np.append(deliv8d,row[8])\n",
    "        print(beta[len(beta)-1])\n",
    "        print(\"Number of Companies Left:\",(len(CompaniesLinks))-i)\n",
    "        i+=1\n",
    "    except:\n",
    "        print(j)\n",
    "        pass\n",
    "    \n"
   ]
  },
  {
   "cell_type": "code",
   "execution_count": null,
   "metadata": {},
   "outputs": [],
   "source": [
    "df['Industry']=IndustryNames\n",
    "df['Company']=CompanyNames\n",
    "df['Beta']=beta\n",
    "df['P/E']=pe\n",
    "df['Dividend(%)']=div\n",
    "df['Industry P/E']=indpe\n",
    "df['P/B']=pb\n",
    "df['Dividend Yield(%)']=divy\n",
    "df['Deliverables(1D)']=deliv1d\n",
    "df['Deliverables(3D)']=deliv3d\n",
    "df['Deliverables(5D)']=deliv5d\n",
    "df['Deliverables(8D)']=deliv8d"
   ]
  },
  {
   "cell_type": "code",
   "execution_count": null,
   "metadata": {},
   "outputs": [],
   "source": [
    "df"
   ]
  },
  {
   "cell_type": "code",
   "execution_count": null,
   "metadata": {},
   "outputs": [],
   "source": [
    "df.to_csv('NseStockData.csv')"
   ]
  }
 ],
 "metadata": {
  "kernelspec": {
   "display_name": "Python 3",
   "language": "python",
   "name": "python3"
  },
  "language_info": {
   "codemirror_mode": {
    "name": "ipython",
    "version": 3
   },
   "file_extension": ".py",
   "mimetype": "text/x-python",
   "name": "python",
   "nbconvert_exporter": "python",
   "pygments_lexer": "ipython3",
   "version": "3.7.6"
  }
 },
 "nbformat": 4,
 "nbformat_minor": 2
}
