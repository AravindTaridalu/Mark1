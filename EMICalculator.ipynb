{
 "cells": [
  {
   "cell_type": "code",
   "execution_count": 1,
   "metadata": {},
   "outputs": [],
   "source": [
    "from bs4 import BeautifulSoup as bs\n",
    "import requests\n",
    "import numpy as np\n",
    "import string\n"
   ]
  },
  {
   "cell_type": "markdown",
   "metadata": {},
   "source": [
    "# Compound Interest,Simple Interest and EMI Calculator"
   ]
  },
  {
   "cell_type": "code",
   "execution_count": 22,
   "metadata": {},
   "outputs": [],
   "source": [
    "def CompoundInterest(P,T,R,Tax,n):\n",
    "    #Here P is principal\n",
    "    #T is total time period(in years)\n",
    "    #R is rate of interest\n",
    "    #n is the number of times amount is compounded in one year\n",
    "    \n",
    "    CI=P*pow((1+(R/(100*n))*(1-(Tax/100))),n*T)-P\n",
    "    return CI"
   ]
  },
  {
   "cell_type": "code",
   "execution_count": 4,
   "metadata": {},
   "outputs": [],
   "source": [
    "def SimpleInterest(P,T,R,Tax,n):\n",
    "    \n",
    "    #Here n is number of times Simple Interest is calciulated each year\n",
    "    SI=P*(n*T)*R/100#Total Interest in that year\n",
    "    return SI"
   ]
  },
  {
   "cell_type": "code",
   "execution_count": 5,
   "metadata": {},
   "outputs": [],
   "source": [
    "def EMICalculator(P,T,R,n):\n",
    "    EMI=(P*(R/(n*100))*pow(1+R/(n*100),T*n))/(pow(1+R/(n*100),T*n)-1)\n",
    "    return EMI"
   ]
  },
  {
   "cell_type": "markdown",
   "metadata": {},
   "source": [
    "# Web Scraping"
   ]
  },
  {
   "cell_type": "code",
   "execution_count": 74,
   "metadata": {},
   "outputs": [],
   "source": [
    "page=requests.get(\"https://www.myloancare.in/car-loan-calculator/#terms\")\n",
    "\n",
    "soup=bs(page.content,'lxml')#Creating soup object\n",
    "\n",
    "attr={'class':'table table-curved'}\n",
    "table=soup.find('table',attrs=attr)#Searching for first table with specified attributes containing required data"
   ]
  },
  {
   "cell_type": "code",
   "execution_count": 72,
   "metadata": {},
   "outputs": [],
   "source": [
    "table_rows=table.find_all('tr')#Extracting all table rows\n",
    "Bank_list=np.empty(0)#Contains list of bank names\n",
    "Interest_Rates=np.empty(0)#Contains list of corresponding interest rates\n",
    "\n",
    "for tr in table_rows:\n",
    "    td=tr.find_all('td')\n",
    "    try:\n",
    "        row=[tr.text for tr in td]#Extracting row data\n",
    "        \n",
    "        Bank_list=np.append(Bank_list,row[0])\n",
    "        \n",
    "        temp=row[1].split(\"%\")#Splitting string to get interest rates\n",
    "        temp2=float(temp[0])\n",
    "        Interest_Rates=np.append(Interest_Rates,temp2)#Storing it in interest rate array\n",
    "    except(IndexError):\n",
    "        continue"
   ]
  },
  {
   "cell_type": "markdown",
   "metadata": {},
   "source": [
    "# Calculator Functions"
   ]
  },
  {
   "cell_type": "code",
   "execution_count": 70,
   "metadata": {},
   "outputs": [],
   "source": [
    "def FDCalc():\n",
    "    print(\"Enter Total Investment:\")\n",
    "    i=float(input())\n",
    "    print(\"Enter Total Time Period in years:(compunded quarterly)\")\n",
    "    t=int(input())\n",
    "    print(\"Enter Rate ofinterest:\")\n",
    "    r=float(input())\n",
    "    print(\"Enter Total Tax percent(If any applicable else enter 0):\")\n",
    "    tax=float(input())\n",
    "    \n",
    "    n=4#Note this value indicates if we are taking values annually(n=1)\n",
    "       #semi-annually(n=2), quarterly(n=4) and monthly(n=12) it basically \n",
    "       #represents how many times principal is compunded each year\n",
    "    print((CompoundInterest(i,t,r,tax,n))+i)"
   ]
  },
  {
   "cell_type": "code",
   "execution_count": 64,
   "metadata": {},
   "outputs": [],
   "source": [
    "def EMICalc():\n",
    "    print(\"Enter Total Investment:\")\n",
    "    i=float(input())\n",
    "    print(\"Enter Total Time Period in years:\")\n",
    "    t=int(input())\n",
    "    print(\"Enter Rate ofinterest:\")\n",
    "    r=float(input())\n",
    "    \n",
    "    n=12#Note this value indicates if we are taking values annually(n=1)\n",
    "       #semi-annually(n=2), quarterly(n=4) and monthly(n=12) it basically \n",
    "       #represents how many times principal is compunded each year   \n",
    "    sum=EMICalculator(i,t,r,n)\n",
    "    print(sum)"
   ]
  },
  {
   "cell_type": "code",
   "execution_count": 65,
   "metadata": {},
   "outputs": [],
   "source": [
    "def CarEMICalc():\n",
    "    print(\"Selectyour bank:\")\n",
    "    for j in range(len(Bank_list)):\n",
    "        print((j+1),\" : \",Bank_list[j])\n",
    "    choice=int(input())\n",
    "    r=Interest_Rates[choice-1]    \n",
    "    p=float(input(\"Enter Principal amount\"))\n",
    "    t=int(input(\"Enter tenure in years:\"))\n",
    "    n=12#Note this value indicates if we are taking values annually(n=1)\n",
    "       #semi-annually(n=2), quarterly(n=4) and monthly(n=12) it basically \n",
    "       #represents how many times principal is compunded each year\n",
    "    print(\"Total EMI payable each month:\",EMICalculator(p,t,r,n))"
   ]
  },
  {
   "cell_type": "code",
   "execution_count": 69,
   "metadata": {},
   "outputs": [],
   "source": [
    "def MFReturns():\n",
    "    print(\"Enter Total Investment:\")\n",
    "    i=float(input())\n",
    "    print(\"Enter Total Time Period in years:(compunded quarterly)\")\n",
    "    t=int(input())\n",
    "    print(\"Enter Rate ofinterest:\")\n",
    "    r=float(input())\n",
    "    print(\"Enter Total Tax percent(If any applicable else enter 0):\")\n",
    "    tax=float(input())\n",
    "    n=1#Note this value indicates if we are taking values annually(n=1)\n",
    "       #semi-annually(n=2), quarterly(n=4) and monthly(n=12) it basically \n",
    "       #represents how many times principal is compunded each year\n",
    "    print((CompoundInterest(i,t,r,tax,n))+i)"
   ]
  },
  {
   "cell_type": "markdown",
   "metadata": {},
   "source": [
    "# Input "
   ]
  },
  {
   "cell_type": "code",
   "execution_count": 68,
   "metadata": {
    "collapsed": true
   },
   "outputs": [
    {
     "name": "stdout",
     "output_type": "stream",
     "text": [
      "1  :  FD Calculator \n",
      "\n",
      "2  :  EMI Calculator \n",
      "\n",
      "3  :  Car Loan EMI Calculator \n",
      "\n",
      "4  :  MF Return Calculator \n",
      "\n",
      "2\n",
      "Enter Total Investment:\n",
      "5000000\n",
      "Enter Total Time Period in years:\n",
      "20\n",
      "Enter Rate ofinterest:\n",
      "8.5\n",
      "43391.1616682767\n"
     ]
    }
   ],
   "source": [
    "#The below dictionary contains the list of functions which conain the calculators\n",
    "tokenDict = {\"1\":FDCalc, \"2\":EMICalc, \"3\":CarEMICalc,\"4\":MFReturns}\n",
    "\n",
    "#The below dictionary is used to display a menu showing option for each calculator\n",
    "lines = {'1':'FD Calculator','2':'EMI Calculator','3':'Car Loan EMI Calculator','4':'MF Return Calculator'}\n",
    "# simulate, say, lines read from a file\n",
    "\n",
    "for k,v in lines.items():\n",
    "    print(k,\" : \",v,\"\\n\")#Displaying Menu\n",
    "\n",
    "line=str(input())#Taking input\n",
    "\n",
    "# lookup the function to call that calculator function\n",
    "functionToCall = tokenDict[line]\n",
    "\n",
    "# and call it\n",
    "functionToCall()"
   ]
  }
 ],
 "metadata": {
  "kernelspec": {
   "display_name": "Python 3",
   "language": "python",
   "name": "python3"
  },
  "language_info": {
   "codemirror_mode": {
    "name": "ipython",
    "version": 3
   },
   "file_extension": ".py",
   "mimetype": "text/x-python",
   "name": "python",
   "nbconvert_exporter": "python",
   "pygments_lexer": "ipython3",
   "version": "3.7.6"
  }
 },
 "nbformat": 4,
 "nbformat_minor": 4
}
